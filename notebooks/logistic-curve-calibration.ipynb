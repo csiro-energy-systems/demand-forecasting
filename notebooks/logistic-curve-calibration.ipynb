{
 "cells": [
  {
   "cell_type": "markdown",
   "metadata": {},
   "source": [
    "# A demonstration of 2, 3 and 4 parameter logistic curve calibration \n",
    "Here we utilize the work of R. Bewley and D. G. Fiebig, \"A Flexible Logistic Growth Model with Applications in Telecommunications\", Intl. J. of Forecasting 4, 177-192 (1988)\n",
    "https://doi.org/10.1016/0169-2070(88)90076-3 \n",
    "Bewley presents the Flexible Logistic Model, which is a generalisation of several other logistic curve models which allow for more flexibility than the standard 2-paramater model. Below we implement the `logistic(t,a,b)` 2-parameter model, `elog(t,a,b,u)` 3-parameter model, and `flog(t,a,b,u,k)` 4-parameter model."
   ]
  },
  {
   "cell_type": "code",
   "execution_count": null,
   "metadata": {},
   "outputs": [],
   "source": [
    "import numpy as np\n",
    "import matplotlib.pyplot as plt\n",
    "%matplotlib inline\n",
    "from scipy.optimize import curve_fit"
   ]
  },
  {
   "cell_type": "markdown",
   "metadata": {},
   "source": [
    "Define the form of the various adoption / logistic curves (I've moved these definitions into `logistic_functions.py`)"
   ]
  },
  {
   "cell_type": "code",
   "execution_count": null,
   "metadata": {},
   "outputs": [],
   "source": [
    "from logistic_functions import *"
   ]
  },
  {
   "cell_type": "markdown",
   "metadata": {},
   "source": [
    "Define the two point calibration data (from Paul's spreadsheet) and plot together with the uncalibrated logistic curves using some made up values for the parameters (those will be used as the initial guess at their value for the non-linear curve fitting)"
   ]
  },
  {
   "cell_type": "code",
   "execution_count": null,
   "metadata": {},
   "outputs": [],
   "source": [
    "#fig1,ax1=plt.subplots()\n",
    "#fig2,ax2=plt.subplots()\n",
    "#t2 =np.linspace(0,25,100)\n",
    "## function itself (cummulative of distribution)\n",
    "#y1 = flog(t2,-4.705,0.494,1,1)\n",
    "#y2 = flog(t2,-7.389,4.382,0,1.594)\n",
    "#y3 = flog(t2,-7.145,2.181,-0.266,0)\n",
    "#ax1.plot(t2,y1)\n",
    "#ax1.plot(t2,y2)\n",
    "#ax1.plot(t2,y3)\n",
    "#ax1.plot(t2,y4)\n",
    "## derivative of function (to look at distribution) \n",
    "#dy1 = np.diff(y1)\n",
    "#dy2 = np.diff(y2)\n",
    "#dy3 = np.diff(y3)\n",
    "#dy4 = np.diff(y4)\n",
    "#ax2.plot(t2[1:],dy1)\n",
    "#ax2.plot(t2[1:],dy2)\n",
    "#ax2.plot(t2[1:],dy3)\n",
    "#ax2.plot(t2[1:],dy4)\n",
    "#\n",
    "#fig1.show()\n",
    "#fig2.show()"
   ]
  },
  {
   "cell_type": "code",
   "execution_count": null,
   "metadata": {},
   "outputs": [],
   "source": [
    "two_point_t = [5, 20]\n",
    "two_point_f = [0.2, 0.9]\n",
    "\n",
    "fig, ax=plt.subplots()\n",
    "ax.plot(\n",
    "    two_point_t,\n",
    "    two_point_f,\n",
    "    marker=\"o\",\n",
    "    linestyle=\"\",\n",
    "    label=\"(2pt) calibration points\",\n",
    ");\n",
    "\n",
    "a0 = -8\n",
    "b0 = 0.5\n",
    "u0 = 0.02\n",
    "k0 = -0.01\n",
    "p_guess = [a0, b0]\n",
    "p_guess3 = [a0, b0, u0]\n",
    "p_guess4 = [a0, b0, u0, k0]\n",
    "t = np.linspace(0, 30)\n",
    "ax.plot(\n",
    "    t,\n",
    "    logistic(t, a0, b0),\n",
    "    linestyle=\"--\",\n",
    "    label=f\"(uncalibrated 2par) a={round(a0,2)}, b={round(b0,2)}\",\n",
    ");\n",
    "ax.plot(\n",
    "    t,\n",
    "    elog(t, a0, b0, u0),\n",
    "    linestyle=\"--\",\n",
    "    label=f\"(uncalibrated 3par) a={round(a0,2)}, b={round(b0,2)}, u={round(u0,2)}\",\n",
    ");\n",
    "ax.plot(\n",
    "    t,\n",
    "    flog(t, a0, b0, u0, k0),\n",
    "    linestyle=\"--\",\n",
    "    label=f\"(uncalibrated 4par) a={round(a0,2)}, b={round(b0,2)}, u={round(u0,2)}, k={round(k0,2)}\",\n",
    ");\n",
    "ax.legend();\n"
   ]
  },
  {
   "cell_type": "markdown",
   "metadata": {},
   "source": [
    "Calibrate the 2-parameter curve using the two points and plot"
   ]
  },
  {
   "cell_type": "code",
   "execution_count": null,
   "metadata": {},
   "outputs": [],
   "source": [
    "p2_opt = curve_fit(f=logistic, xdata=two_point_t, ydata=two_point_f, p0=p_guess);\n",
    "two_point_alpha = p2_opt[0][0]\n",
    "two_point_beta = p2_opt[0][1]\n",
    "fig2, ax2 = plt.subplots()\n",
    "ax2.plot(\n",
    "    two_point_t,\n",
    "    two_point_f,\n",
    "    marker=\"o\",\n",
    "    linestyle=\"\",\n",
    "    label=\"(2pt) calibration points\",\n",
    ");\n",
    "ax2.plot(\n",
    "    t,\n",
    "    logistic(t, two_point_alpha, two_point_beta),\n",
    "    label=f\"(2pt) alpha={round(two_point_alpha,2)}, beta={round(two_point_beta,2)}\",\n",
    ")\n",
    "ax2.legend();"
   ]
  },
  {
   "cell_type": "markdown",
   "metadata": {},
   "source": [
    "Calibrate both the 2-parameter and 2-parameter using 3 new points and plot"
   ]
  },
  {
   "cell_type": "code",
   "execution_count": null,
   "metadata": {},
   "outputs": [],
   "source": [
    "three_point_t = [0, 10, 25]\n",
    "three_point_f = [0.084, 0.7, 0.85]\n",
    "\n",
    "fig3, ax3 = plt.subplots()\n",
    "ax3.plot(\n",
    "    three_point_t,\n",
    "    three_point_f,\n",
    "    marker=\"o\",\n",
    "    linestyle=\"\",\n",
    "    label=\"(3pt) calibration points\",\n",
    ")\n",
    "p3_opt = curve_fit(f=logistic, xdata=three_point_t, ydata=three_point_f, p0=p_guess)\n",
    "a = p3_opt[0][0]\n",
    "b = p3_opt[0][1]\n",
    "ax3.plot(\n",
    "    t,\n",
    "    logistic(t, a, b),\n",
    "    label=f\"(3pt2par) alpha={round(a,2)}, beta={round(b,2)}\",\n",
    ")\n",
    "p33_opt = curve_fit(f=elog, xdata=three_point_t, ydata=three_point_f, p0=[a,b,0])\n",
    "a = p33_opt[0][0]\n",
    "b = p33_opt[0][1]\n",
    "u = p33_opt[0][2]\n",
    "ax3.plot(\n",
    "    t,\n",
    "    elog(t, a, b, u),\n",
    "    label=f\"(3pt3par) alpha={round(a,2)}, beta={round(b,2)}, u={round(u,2)}\",\n",
    ")\n",
    "ax3.legend();"
   ]
  },
  {
   "cell_type": "markdown",
   "metadata": {},
   "source": [
    "Calibrate the 2-parameter, 3-parameter, and 4-parameter models with 4 new points (or some real EVC data)"
   ]
  },
  {
   "cell_type": "code",
   "execution_count": 54,
   "metadata": {},
   "outputs": [
    {
     "ename": "TypeError",
     "evalue": "can't multiply sequence by non-int of type 'float'",
     "output_type": "error",
     "traceback": [
      "\u001b[0;31m---------------------------------------------------------------------------\u001b[0m",
      "\u001b[0;31mTypeError\u001b[0m                                 Traceback (most recent call last)",
      "\u001b[1;32m/Users/gre538/code/demand-forecasting/notebooks/logistic-curve-calibration.ipynb Cell 13\u001b[0m line \u001b[0;36m1\n\u001b[0;32m----> <a href='vscode-notebook-cell:/Users/gre538/code/demand-forecasting/notebooks/logistic-curve-calibration.ipynb#X36sZmlsZQ%3D%3D?line=0'>1</a>\u001b[0m [\u001b[39m1.0\u001b[39m,\u001b[39m2.0\u001b[39m]\u001b[39m*\u001b[39m\u001b[39m2.0\u001b[39m\u001b[39m+\u001b[39m[\u001b[39m3.0\u001b[39m,\u001b[39m4.0\u001b[39m]\n",
      "\u001b[0;31mTypeError\u001b[0m: can't multiply sequence by non-int of type 'float'"
     ]
    }
   ],
   "source": [
    "[1.0,2.0]*2.0+[3.0,4.0]"
   ]
  },
  {
   "cell_type": "code",
   "execution_count": 69,
   "metadata": {},
   "outputs": [
    {
     "data": {
      "text/plain": [
       "Text(0.5, 1.0, 'Latest historical + 2 calibration points (equal weight)')"
      ]
     },
     "execution_count": 69,
     "metadata": {},
     "output_type": "execute_result"
    },
    {
     "data": {
      "image/png": "[encoded data removed]",
      "text/plain": [
       "<Figure size 640x480 with 1 Axes>"
      ]
     },
     "metadata": {},
     "output_type": "display_data"
    }
   ],
   "source": [
    "t1 = 2030\n",
    "f1 = 60 # percent\n",
    "t2 = 2035\n",
    "f2 = 99 # percent \n",
    "\n",
    "case = 3\n",
    "historical_scale_fac = 2\n",
    "\n",
    "if case == 1:\n",
    "    calibration_weight = 100 # ignore the calibration points\n",
    "    three_points_only = False\n",
    "    title = \"Historical only\"\n",
    "elif case == 2:\n",
    "    calibration_weight = 1\n",
    "    three_points_only = False\n",
    "    title = \"Historical + 2 calibration points (equal weight)\"\n",
    "elif case == 3:\n",
    "    calibration_weight = 1\n",
    "    three_points_only = True\n",
    "    title = \"Latest historical + 2 calibration points (equal weight)\"\n",
    "\n",
    "base_year = 2010\n",
    "point_t = [2.0, 3.0, 4.0, 5.0, 6.0, 7.0, 8.0, 9.0, 10.0, 11.0, 12.0, 13.0, 13.5,t1-base_year,t2-base_year]\n",
    "point_f = [0.0,\n",
    " 0.00013675889328063241,\n",
    " 0.00013037542662116042,\n",
    " 0.00033676248108925865,\n",
    " 0.0006428571428571428,\n",
    " 0.0005855368882395908,\n",
    " 0.0010049036777583188,\n",
    " 0.0009978790613718413,\n",
    " 0.0051202738910389985,\n",
    " 0.005895217391304348,\n",
    " 0.01631809823372853,\n",
    " 0.03235203415241532,\n",
    " 0.07763658201784489,f1/100,f2/100]\n",
    "point_f[0:-2] = [f * historical_scale_fac for f in point_f[0:-2]]\n",
    "\n",
    "point_t = np.array(point_t)\n",
    "point_f = np.array(point_f)\n",
    "sigma = np.ones(point_t.shape)\n",
    "sigma[-1] = sigma[-1] * calibration_weight\n",
    "sigma[-2] = sigma[-2] * calibration_weight\n",
    "\n",
    "fig4, ax4 = plt.subplots()\n",
    "ax4.plot(\n",
    "    point_t+base_year,\n",
    "    point_f,\n",
    "    marker=\"o\",\n",
    "    linestyle=\"\",\n",
    "    label=\"all points\",\n",
    ")\n",
    "\n",
    "if three_points_only:\n",
    "    point_t = point_t[-3:]\n",
    "    point_f = point_f[-3:]\n",
    "    sigma = sigma[-3:]  \n",
    "\n",
    "xtol = 1e-2\n",
    "\n",
    "ax4.plot(\n",
    "    point_t+base_year,\n",
    "    point_f,\n",
    "    marker=\"s\",\n",
    "    linestyle=\"\",\n",
    "    label=\"used points\",\n",
    ")\n",
    "p4_opt = curve_fit(f=logistic, xdata=point_t, ydata=point_f, p0=p_guess, sigma=sigma, xtol=xtol)\n",
    "a = p4_opt[0][0]\n",
    "b = p4_opt[0][1]\n",
    "ax4.plot(\n",
    "    t+base_year,\n",
    "    logistic(t, a, b),\n",
    "    label=f\"(2par) a={round(a,2)}, b={round(b,2)}\",\n",
    ")\n",
    "p43_opt = curve_fit(f=elog, xdata=point_t, ydata=point_f, p0=[a,b,0], sigma=sigma, xtol=xtol)\n",
    "a = p43_opt[0][0]\n",
    "b = p43_opt[0][1]\n",
    "u = p43_opt[0][2]\n",
    "ax4.plot(\n",
    "    t+base_year,\n",
    "    elog(t, a, b, u),\n",
    "    label=f\"(3par) a={round(a,2)}, b={round(b,2)}, u={round(u,2)}\",\n",
    ")\n",
    "if not three_points_only:\n",
    "    p44_opt = curve_fit(f=flog, xdata=point_t, ydata=point_f, p0=[a,b,u,0], sigma=sigma, xtol=xtol)\n",
    "    a = p44_opt[0][0]\n",
    "    b = p44_opt[0][1]\n",
    "    u = p44_opt[0][2]\n",
    "    k = p44_opt[0][3]\n",
    "    ax4.plot(\n",
    "        t+base_year,\n",
    "        flog(t, a, b, u, k),\n",
    "        label=f\"(4par) a={round(a,2)}, b={round(b,2)}, u={round(u,2)}, k={round(k,2)}\",\n",
    "    )\n",
    "ax4.legend(loc=\"upper left\");\n",
    "plt.title(title)"
   ]
  },
  {
   "cell_type": "code",
   "execution_count": 29,
   "metadata": {},
   "outputs": [
    {
     "data": {
      "text/plain": [
       "array([1.24325462e-06, 1.69144596e-06, 2.32396735e-06, 3.22669614e-06,\n",
       "       4.53057679e-06, 6.43814160e-06, 9.26747043e-06, 1.35263671e-05,\n",
       "       2.00399413e-05, 3.01746147e-05, 4.62402676e-05, 7.22297741e-05,\n",
       "       1.15214962e-04, 1.88057613e-04, 3.14840147e-04, 5.42119373e-04,\n",
       "       9.63127141e-04, 1.77195298e-03, 3.39021680e-03, 6.77676931e-03,\n",
       "       1.42170370e-02, 3.13851924e-02, 7.25457645e-02, 1.70643571e-01,\n",
       "       3.75305785e-01, 6.66351904e-01, 8.86800497e-01, 9.74511082e-01,\n",
       "       9.96052887e-01, 9.99615263e-01, 9.99981822e-01, 9.99999783e-01,\n",
       "       1.00000000e+00,            nan,            nan,            nan,\n",
       "                  nan,            nan,            nan,            nan,\n",
       "                  nan,            nan,            nan,            nan,\n",
       "                  nan,            nan,            nan,            nan,\n",
       "                  nan,            nan])"
      ]
     },
     "execution_count": 29,
     "metadata": {},
     "output_type": "execute_result"
    }
   ],
   "source": [
    "flog(t, a, b, u, k)"
   ]
  },
  {
   "cell_type": "code",
   "execution_count": null,
   "metadata": {},
   "outputs": [],
   "source": []
  }
 ],
 "metadata": {
  "kernelspec": {
   "display_name": "base",
   "language": "python",
   "name": "python3"
  },
  "language_info": {
   "codemirror_mode": {
    "name": "ipython",
    "version": 3
   },
   "file_extension": ".py",
   "mimetype": "text/x-python",
   "name": "python",
   "nbconvert_exporter": "python",
   "pygments_lexer": "ipython3",
   "version": "3.11.5"
  }
 },
 "nbformat": 4,
 "nbformat_minor": 2
}
