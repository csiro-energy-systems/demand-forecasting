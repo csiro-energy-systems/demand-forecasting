{
 "cells": [
  {
   "cell_type": "code",
   "execution_count": null,
   "metadata": {},
   "outputs": [],
   "source": []
  },
  {
   "cell_type": "markdown",
   "metadata": {},
   "source": [
    "To get the NSW new registration data we do the following ...\n",
    "- Login to the (new) Transport NSW Registration and Licensing Portal at https://www.transport.nsw.gov.au/registration-and-licensing-statistics-portal\n",
    "- And then select the Registration Transactions Report at https://www.transport.nsw.gov.au/data-and-research/drives-reporting-portal/registration-transactions-report\n",
    "- Click to the 2nd page of the PowerBI tool (it only renders the 1st page of the tool in my browser which is not useful)\n",
    "- Under \"Registration Event\" select \"New Vehicle Registrations\"\n",
    "- Under \"Light Heavy Vehicle\" select \"Light\"\n",
    "- We will download data Total and BEV seperately for both \"Goods Vehicles\" and \"Passenger Vehicles\" (so 4 files)\n",
    "    - Select (by clicking on) \"Passenger\" under \"Parent Vehicle Type\"\n",
    "    - Select (by **shift+clicking** on) \"BATTERY ELECTRIC\" under \"Vehicle Fuel\"\n",
    "    - Now (right) click on the plot of new registrations over time in the top right and select \"Show as Table\"\n",
    "    - Click the \"Switch to Vertical Layout\" in the top right to be able to display the whole table\n",
    "    - Screenshot the table\n",
    "    - Upload to GPT to convert to pandas\n",
    "        - Here is the prompt i use \"Please create the code to turn the table in this image into a pandas dataframe, with the dataframe named according to the image filename.\", then have to combine the dataframes afterwards since it does not like doing multiple files.\n",
    "\n",
    "\n"
   ]
  },
  {
   "cell_type": "markdown",
   "metadata": {},
   "source": []
  }
 ],
 "metadata": {
  "language_info": {
   "name": "python"
  }
 },
 "nbformat": 4,
 "nbformat_minor": 2
}
